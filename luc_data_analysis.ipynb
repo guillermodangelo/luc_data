{
 "cells": [
  {
   "cell_type": "code",
   "execution_count": 1,
   "metadata": {},
   "outputs": [],
   "source": [
    "import tabula\n",
    "import os\n",
    "import pandas as pd"
   ]
  },
  {
   "cell_type": "code",
   "execution_count": 20,
   "metadata": {},
   "outputs": [
    {
     "data": {
      "text/plain": [
       "['planes_circuitales\\\\Artigas.pdf',\n",
       " 'planes_circuitales\\\\Canelones.pdf',\n",
       " 'planes_circuitales\\\\Cerro_Largo.pdf',\n",
       " 'planes_circuitales\\\\Colonia.pdf',\n",
       " 'planes_circuitales\\\\Durazno.pdf']"
      ]
     },
     "execution_count": 20,
     "metadata": {},
     "output_type": "execute_result"
    }
   ],
   "source": [
    "files = [os.path.join('planes_circuitales', i) for i in os.listdir('planes_circuitales')]\n",
    "files[0:5]"
   ]
  },
  {
   "cell_type": "code",
   "execution_count": 21,
   "metadata": {},
   "outputs": [],
   "source": [
    "area_tuple = (156, 85, 532, 757)"
   ]
  },
  {
   "cell_type": "code",
   "execution_count": 24,
   "metadata": {},
   "outputs": [
    {
     "data": {
      "text/html": [
       "<div>\n",
       "<style scoped>\n",
       "    .dataframe tbody tr th:only-of-type {\n",
       "        vertical-align: middle;\n",
       "    }\n",
       "\n",
       "    .dataframe tbody tr th {\n",
       "        vertical-align: top;\n",
       "    }\n",
       "\n",
       "    .dataframe thead th {\n",
       "        text-align: right;\n",
       "    }\n",
       "</style>\n",
       "<table border=\"1\" class=\"dataframe\">\n",
       "  <thead>\n",
       "    <tr style=\"text-align: right;\">\n",
       "      <th></th>\n",
       "      <th>CIRCUITO</th>\n",
       "      <th>SERIE</th>\n",
       "      <th>DESDE</th>\n",
       "      <th>Unnamed: 0</th>\n",
       "      <th>HASTA</th>\n",
       "      <th>HAB.</th>\n",
       "      <th>Unnamed: 1</th>\n",
       "      <th>LOCALIDAD</th>\n",
       "      <th>DIRECCION</th>\n",
       "      <th>Acc.</th>\n",
       "      <th>Unnamed: 2</th>\n",
       "      <th>URB/RURAL</th>\n",
       "    </tr>\n",
       "  </thead>\n",
       "  <tbody>\n",
       "    <tr>\n",
       "      <th>0</th>\n",
       "      <td>1</td>\n",
       "      <td>IAA</td>\n",
       "      <td>NaN</td>\n",
       "      <td>1</td>\n",
       "      <td>4130</td>\n",
       "      <td>NaN</td>\n",
       "      <td>282</td>\n",
       "      <td>COLONIA PINTADO</td>\n",
       "      <td>ESC.14</td>\n",
       "      <td>NaN</td>\n",
       "      <td>s</td>\n",
       "      <td>RURAL</td>\n",
       "    </tr>\n",
       "    <tr>\n",
       "      <th>1</th>\n",
       "      <td>2</td>\n",
       "      <td>IAA</td>\n",
       "      <td>NaN</td>\n",
       "      <td>4131</td>\n",
       "      <td>4873</td>\n",
       "      <td>NaN</td>\n",
       "      <td>282</td>\n",
       "      <td>COLONIA PINTADO</td>\n",
       "      <td>ESC.14</td>\n",
       "      <td>NaN</td>\n",
       "      <td>s</td>\n",
       "      <td>RURAL</td>\n",
       "    </tr>\n",
       "  </tbody>\n",
       "</table>\n",
       "</div>"
      ],
      "text/plain": [
       "   CIRCUITO SERIE  DESDE  Unnamed: 0  HASTA  HAB.  Unnamed: 1  \\\n",
       "0         1   IAA    NaN           1   4130   NaN         282   \n",
       "1         2   IAA    NaN        4131   4873   NaN         282   \n",
       "\n",
       "         LOCALIDAD DIRECCION  Acc. Unnamed: 2 URB/RURAL  \n",
       "0  COLONIA PINTADO    ESC.14   NaN          s     RURAL  \n",
       "1  COLONIA PINTADO    ESC.14   NaN          s     RURAL  "
      ]
     },
     "execution_count": 24,
     "metadata": {},
     "output_type": "execute_result"
    }
   ],
   "source": [
    "df = tabula.read_pdf(os.path.join(files[0]), lattice=False, pages='all', area=area_tuple)\n",
    "df[0].head(2)"
   ]
  },
  {
   "cell_type": "code",
   "execution_count": 25,
   "metadata": {},
   "outputs": [],
   "source": [
    "def df_from_pdf(file, area_tuple):\n",
    "    df = tabula.read_pdf(file, lattice=False, pages='all', area=area_tuple)\n",
    "    df_con = pd.concat(df)\n",
    "\n",
    "    return df_con"
   ]
  },
  {
   "cell_type": "code",
   "execution_count": 31,
   "metadata": {},
   "outputs": [
    {
     "data": {
      "text/html": [
       "<div>\n",
       "<style scoped>\n",
       "    .dataframe tbody tr th:only-of-type {\n",
       "        vertical-align: middle;\n",
       "    }\n",
       "\n",
       "    .dataframe tbody tr th {\n",
       "        vertical-align: top;\n",
       "    }\n",
       "\n",
       "    .dataframe thead th {\n",
       "        text-align: right;\n",
       "    }\n",
       "</style>\n",
       "<table border=\"1\" class=\"dataframe\">\n",
       "  <thead>\n",
       "    <tr style=\"text-align: right;\">\n",
       "      <th></th>\n",
       "      <th>CIRCUITO</th>\n",
       "      <th>SERIE</th>\n",
       "      <th>DESDE</th>\n",
       "      <th>Unnamed: 0</th>\n",
       "      <th>HASTA</th>\n",
       "      <th>HAB.</th>\n",
       "      <th>Unnamed: 1</th>\n",
       "      <th>LOCALIDAD</th>\n",
       "      <th>DIRECCION</th>\n",
       "      <th>Acc.</th>\n",
       "      <th>Unnamed: 2</th>\n",
       "      <th>URB/RURAL</th>\n",
       "    </tr>\n",
       "  </thead>\n",
       "  <tbody>\n",
       "    <tr>\n",
       "      <th>0</th>\n",
       "      <td>1</td>\n",
       "      <td>IAA</td>\n",
       "      <td>NaN</td>\n",
       "      <td>1</td>\n",
       "      <td>4130</td>\n",
       "      <td>NaN</td>\n",
       "      <td>282</td>\n",
       "      <td>COLONIA PINTADO</td>\n",
       "      <td>ESC.14</td>\n",
       "      <td>NaN</td>\n",
       "      <td>s</td>\n",
       "      <td>RURAL</td>\n",
       "    </tr>\n",
       "    <tr>\n",
       "      <th>1</th>\n",
       "      <td>2</td>\n",
       "      <td>IAA</td>\n",
       "      <td>NaN</td>\n",
       "      <td>4131</td>\n",
       "      <td>4873</td>\n",
       "      <td>NaN</td>\n",
       "      <td>282</td>\n",
       "      <td>COLONIA PINTADO</td>\n",
       "      <td>ESC.14</td>\n",
       "      <td>NaN</td>\n",
       "      <td>s</td>\n",
       "      <td>RURAL</td>\n",
       "    </tr>\n",
       "  </tbody>\n",
       "</table>\n",
       "</div>"
      ],
      "text/plain": [
       "   CIRCUITO SERIE  DESDE  Unnamed: 0  HASTA  HAB.  Unnamed: 1  \\\n",
       "0         1   IAA    NaN           1   4130   NaN         282   \n",
       "1         2   IAA    NaN        4131   4873   NaN         282   \n",
       "\n",
       "         LOCALIDAD DIRECCION  Acc. Unnamed: 2 URB/RURAL  \n",
       "0  COLONIA PINTADO    ESC.14   NaN          s     RURAL  \n",
       "1  COLONIA PINTADO    ESC.14   NaN          s     RURAL  "
      ]
     },
     "execution_count": 31,
     "metadata": {},
     "output_type": "execute_result"
    }
   ],
   "source": [
    "test = df_from_pdf(files[0], area_tuple)\n",
    "test.head(2)"
   ]
  },
  {
   "cell_type": "code",
   "execution_count": 32,
   "metadata": {},
   "outputs": [],
   "source": [
    "def parse_dfs(files_list, area_tuple):\n",
    "    dfs = []\n",
    "    for file in files_list:\n",
    "        df = df_from_pdf(file, area_tuple)\n",
    "        df['file'] = file\n",
    "        dfs.append(df)\n",
    "\n",
    "        return dfs"
   ]
  },
  {
   "cell_type": "code",
   "execution_count": 33,
   "metadata": {},
   "outputs": [],
   "source": [
    "all = parse_dfs(files, area_tuple)"
   ]
  },
  {
   "cell_type": "code",
   "execution_count": 36,
   "metadata": {},
   "outputs": [
    {
     "ename": "IndexError",
     "evalue": "list index out of range",
     "output_type": "error",
     "traceback": [
      "\u001b[1;31m---------------------------------------------------------------------------\u001b[0m",
      "\u001b[1;31mIndexError\u001b[0m                                Traceback (most recent call last)",
      "\u001b[1;32mc:\\Users\\user\\Documents\\GitHub\\luc_data\\luc_data_analysis.ipynb Cell 9'\u001b[0m in \u001b[0;36m<cell line: 1>\u001b[1;34m()\u001b[0m\n\u001b[1;32m----> <a href='vscode-notebook-cell:/c%3A/Users/user/Documents/GitHub/luc_data/luc_data_analysis.ipynb#ch0000010?line=0'>1</a>\u001b[0m \u001b[39mall\u001b[39;49m[\u001b[39m1\u001b[39;49m]\n",
      "\u001b[1;31mIndexError\u001b[0m: list index out of range"
     ]
    }
   ],
   "source": [
    "all[1]"
   ]
  },
  {
   "cell_type": "code",
   "execution_count": null,
   "metadata": {},
   "outputs": [],
   "source": []
  }
 ],
 "metadata": {
  "interpreter": {
   "hash": "b64d072c926d00575959dee9438cdd2b955a3084db39d3bb60d56dabbaaff10b"
  },
  "kernelspec": {
   "display_name": "Python 3.10.4 ('pdf')",
   "language": "python",
   "name": "python3"
  },
  "language_info": {
   "codemirror_mode": {
    "name": "ipython",
    "version": 3
   },
   "file_extension": ".py",
   "mimetype": "text/x-python",
   "name": "python",
   "nbconvert_exporter": "python",
   "pygments_lexer": "ipython3",
   "version": "3.10.4"
  },
  "orig_nbformat": 4
 },
 "nbformat": 4,
 "nbformat_minor": 2
}
