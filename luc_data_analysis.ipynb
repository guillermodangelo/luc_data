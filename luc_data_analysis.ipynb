{
 "cells": [
  {
   "cell_type": "code",
   "execution_count": 2,
   "metadata": {},
   "outputs": [],
   "source": [
    "import tabula\n",
    "import os\n",
    "import pandas as pd"
   ]
  },
  {
   "cell_type": "code",
   "execution_count": 3,
   "metadata": {},
   "outputs": [
    {
     "data": {
      "text/plain": [
       "['planes_circuitales\\\\Artigas.pdf',\n",
       " 'planes_circuitales\\\\Canelones.pdf',\n",
       " 'planes_circuitales\\\\Cerro_Largo.pdf',\n",
       " 'planes_circuitales\\\\Colonia.pdf',\n",
       " 'planes_circuitales\\\\Durazno.pdf']"
      ]
     },
     "execution_count": 3,
     "metadata": {},
     "output_type": "execute_result"
    }
   ],
   "source": [
    "files = [os.path.join('planes_circuitales', i) for i in os.listdir('planes_circuitales')]\n",
    "files[0:5]"
   ]
  },
  {
   "cell_type": "code",
   "execution_count": 82,
   "metadata": {},
   "outputs": [],
   "source": [
    "deptos = [\n",
    "    'Artigas',\n",
    "    'Canelones',\n",
    "    'Cerro_Largo',\n",
    "    'Colonia',\n",
    "    'Durazno',\n",
    "    'Flores',\n",
    "    'Florida',\n",
    "    'Lavalleja',\n",
    "    'Maldonado',\n",
    "    'Montevideo',\n",
    "    'Paysandu',\n",
    "    'Rio_Negro',\n",
    "    'Rivera',\n",
    "    'Rocha',\n",
    "    'Salto',\n",
    "    'San_Jose',\n",
    "    'Soriano',\n",
    "    'Tacuarembo',\n",
    "    'Treinta_y_Tres'\n",
    "    ]"
   ]
  },
  {
   "cell_type": "code",
   "execution_count": 4,
   "metadata": {},
   "outputs": [],
   "source": [
    "area_tuple = (156, 85, 532, 757)"
   ]
  },
  {
   "cell_type": "code",
   "execution_count": 5,
   "metadata": {},
   "outputs": [
    {
     "data": {
      "text/html": [
       "<div>\n",
       "<style scoped>\n",
       "    .dataframe tbody tr th:only-of-type {\n",
       "        vertical-align: middle;\n",
       "    }\n",
       "\n",
       "    .dataframe tbody tr th {\n",
       "        vertical-align: top;\n",
       "    }\n",
       "\n",
       "    .dataframe thead th {\n",
       "        text-align: right;\n",
       "    }\n",
       "</style>\n",
       "<table border=\"1\" class=\"dataframe\">\n",
       "  <thead>\n",
       "    <tr style=\"text-align: right;\">\n",
       "      <th></th>\n",
       "      <th>CIRCUITO</th>\n",
       "      <th>SERIE</th>\n",
       "      <th>DESDE</th>\n",
       "      <th>Unnamed: 0</th>\n",
       "      <th>HASTA</th>\n",
       "      <th>HAB.</th>\n",
       "      <th>Unnamed: 1</th>\n",
       "      <th>LOCALIDAD</th>\n",
       "      <th>DIRECCION</th>\n",
       "      <th>Acc.</th>\n",
       "      <th>Unnamed: 2</th>\n",
       "      <th>URB/RURAL</th>\n",
       "    </tr>\n",
       "  </thead>\n",
       "  <tbody>\n",
       "    <tr>\n",
       "      <th>0</th>\n",
       "      <td>1</td>\n",
       "      <td>IAA</td>\n",
       "      <td>NaN</td>\n",
       "      <td>1</td>\n",
       "      <td>4130</td>\n",
       "      <td>NaN</td>\n",
       "      <td>282</td>\n",
       "      <td>COLONIA PINTADO</td>\n",
       "      <td>ESC.14</td>\n",
       "      <td>NaN</td>\n",
       "      <td>s</td>\n",
       "      <td>RURAL</td>\n",
       "    </tr>\n",
       "    <tr>\n",
       "      <th>1</th>\n",
       "      <td>2</td>\n",
       "      <td>IAA</td>\n",
       "      <td>NaN</td>\n",
       "      <td>4131</td>\n",
       "      <td>4873</td>\n",
       "      <td>NaN</td>\n",
       "      <td>282</td>\n",
       "      <td>COLONIA PINTADO</td>\n",
       "      <td>ESC.14</td>\n",
       "      <td>NaN</td>\n",
       "      <td>s</td>\n",
       "      <td>RURAL</td>\n",
       "    </tr>\n",
       "  </tbody>\n",
       "</table>\n",
       "</div>"
      ],
      "text/plain": [
       "   CIRCUITO SERIE  DESDE  Unnamed: 0  HASTA  HAB.  Unnamed: 1  \\\n",
       "0         1   IAA    NaN           1   4130   NaN         282   \n",
       "1         2   IAA    NaN        4131   4873   NaN         282   \n",
       "\n",
       "         LOCALIDAD DIRECCION  Acc. Unnamed: 2 URB/RURAL  \n",
       "0  COLONIA PINTADO    ESC.14   NaN          s     RURAL  \n",
       "1  COLONIA PINTADO    ESC.14   NaN          s     RURAL  "
      ]
     },
     "execution_count": 5,
     "metadata": {},
     "output_type": "execute_result"
    }
   ],
   "source": [
    "df = tabula.read_pdf(os.path.join(files[0]), lattice=False, pages='all', area=area_tuple)\n",
    "df[0].head(2)"
   ]
  },
  {
   "cell_type": "code",
   "execution_count": 15,
   "metadata": {},
   "outputs": [],
   "source": [
    "# \"x1\": left,\n",
    "# \"x2\": right,\n",
    "# \"y1\": top,\n",
    "# \"y2\": bottom,\n",
    "\n",
    "# (top, left, bottom, right)"
   ]
  },
  {
   "cell_type": "code",
   "execution_count": 60,
   "metadata": {},
   "outputs": [],
   "source": [
    "area = [\n",
    "    {\"x1\":85.00391051734927,\"x2\":757.391650766983,\"y1\":156.25912273406985,\"y2\":532.9646},\n",
    "    {\"x1\":50.999400010452256,\"x2\":790.7311392835236,\"y1\":133.00439807128905,\"y2\":532.85939227},\n",
    "    {\"x1\":52.998674981460596,\"x2\":786.4169143460846,\"y1\":149.99823532485965,\"y2\":530.912729801178},\n",
    "    {\"x1\":53.998312466964734,\"x2\":786.3643018468476,\"y1\":141.00149795532226,\"y2\":538.751},\n",
    "    {\"x1\":53.998312466964734,\"x2\":786.3643018468476,\"y1\":141.00149795532226,\"y2\":538.751},\n",
    "    {\"x1\":53.998312466964734,\"x2\":786.3643018468476,\"y1\":141.00149795532226,\"y2\":538.751},\n",
    "    {\"x1\":53.998312466964734,\"x2\":785.3120518621064,\"y1\":134.00403555679324,\"y2\":537.01577971},\n",
    "    {\"x1\":53.998312466964734,\"x2\":786.3643018468476,\"y1\":141.00149795532226,\"y2\":538.751},\n",
    "    {\"x1\":53.998312466964734,\"x2\":786.3643018468476,\"y1\":141.00149795532226,\"y2\":538.751},\n",
    "    {\"x1\":50.999400010452256,\"x2\":787.5743893293,\"y1\":123.00802321624758,\"y2\":536.5422672195434},\n",
    "    {\"x1\":49.99976252494812,\"x2\":764.4775021642305,\"y1\":157.9953352088928,\"y2\":536.8053297157288},\n",
    "    {\"x1\":53.998312466964734,\"x2\":740.0653025182343,\"y1\":126.00693567276002,\"y2\":530.0709298133851},\n",
    "    {\"x1\":53.998312466964734,\"x2\":786.3643018468476,\"y1\":141.00149795532226,\"y2\":538.751},\n",
    "    {\"x1\":49.99976252494812,\"x2\":780.2612519353486,\"y1\":157.9953352088928,\"y2\":530.4918298072815},\n",
    "    {\"x1\":49.99976252494812,\"x2\":788.6792518132783,\"y1\":136.00331052780152,\"y2\":540.0673046684266},\n",
    "    {\"x1\":51.999037495956394,\"x2\":787.5217768300628,\"y1\":141.00149795532226,\"y2\":535.5952422332764},\n",
    "    {\"x1\":53.998312466964734,\"x2\":786.3643018468476,\"y1\":141.00149795532226,\"y2\":538.751},\n",
    "    {\"x1\":53.998312466964734,\"x2\":786.3643018468476,\"y1\":125.00729818725588,\"y2\":535.3847922363282},\n",
    "    {\"x1\":21.992024681091287,\"x2\":796.4480134506226,\"y1\":152.99714778137206,\"y2\":539.1728921813965}\n",
    "    ]"
   ]
  },
  {
   "cell_type": "code",
   "execution_count": 63,
   "metadata": {},
   "outputs": [
    {
     "data": {
      "text/plain": [
       "[(156.25912273406985, 85.00391051734927, 532.9646, 757.391650766983),\n",
       " (133.00439807128905, 50.999400010452256, 532.85939227, 790.7311392835236),\n",
       " (149.99823532485965, 52.998674981460596, 530.912729801178, 786.4169143460846),\n",
       " (141.00149795532226, 53.998312466964734, 538.751, 786.3643018468476),\n",
       " (141.00149795532226, 53.998312466964734, 538.751, 786.3643018468476)]"
      ]
     },
     "execution_count": 63,
     "metadata": {},
     "output_type": "execute_result"
    }
   ],
   "source": [
    "areas = [(i['y1'], i['x1'], i['y2'], i['x2']) for i in area]\n",
    "areas[0:5]"
   ]
  },
  {
   "cell_type": "code",
   "execution_count": 64,
   "metadata": {},
   "outputs": [],
   "source": [
    "def df_from_pdf(file, area_tuple):\n",
    "    df = tabula.read_pdf(file, lattice=False, pages='all', area=area_tuple)\n",
    "    df_con = pd.concat(df)\n",
    "\n",
    "    return df_con"
   ]
  },
  {
   "cell_type": "code",
   "execution_count": 65,
   "metadata": {},
   "outputs": [
    {
     "data": {
      "text/html": [
       "<div>\n",
       "<style scoped>\n",
       "    .dataframe tbody tr th:only-of-type {\n",
       "        vertical-align: middle;\n",
       "    }\n",
       "\n",
       "    .dataframe tbody tr th {\n",
       "        vertical-align: top;\n",
       "    }\n",
       "\n",
       "    .dataframe thead th {\n",
       "        text-align: right;\n",
       "    }\n",
       "</style>\n",
       "<table border=\"1\" class=\"dataframe\">\n",
       "  <thead>\n",
       "    <tr style=\"text-align: right;\">\n",
       "      <th></th>\n",
       "      <th>CIRCUITO</th>\n",
       "      <th>SERIE</th>\n",
       "      <th>DESDE</th>\n",
       "      <th>Unnamed: 0</th>\n",
       "      <th>HASTA</th>\n",
       "      <th>HAB.</th>\n",
       "      <th>Unnamed: 1</th>\n",
       "      <th>LOCALIDAD</th>\n",
       "      <th>DIRECCION</th>\n",
       "      <th>Acc.</th>\n",
       "      <th>Unnamed: 2</th>\n",
       "      <th>URB/RURAL</th>\n",
       "    </tr>\n",
       "  </thead>\n",
       "  <tbody>\n",
       "    <tr>\n",
       "      <th>0</th>\n",
       "      <td>1</td>\n",
       "      <td>IAA</td>\n",
       "      <td>NaN</td>\n",
       "      <td>1</td>\n",
       "      <td>4130</td>\n",
       "      <td>NaN</td>\n",
       "      <td>282</td>\n",
       "      <td>COLONIA PINTADO</td>\n",
       "      <td>ESC.14</td>\n",
       "      <td>NaN</td>\n",
       "      <td>s</td>\n",
       "      <td>RURAL</td>\n",
       "    </tr>\n",
       "    <tr>\n",
       "      <th>1</th>\n",
       "      <td>2</td>\n",
       "      <td>IAA</td>\n",
       "      <td>NaN</td>\n",
       "      <td>4131</td>\n",
       "      <td>4873</td>\n",
       "      <td>NaN</td>\n",
       "      <td>282</td>\n",
       "      <td>COLONIA PINTADO</td>\n",
       "      <td>ESC.14</td>\n",
       "      <td>NaN</td>\n",
       "      <td>s</td>\n",
       "      <td>RURAL</td>\n",
       "    </tr>\n",
       "  </tbody>\n",
       "</table>\n",
       "</div>"
      ],
      "text/plain": [
       "   CIRCUITO SERIE  DESDE  Unnamed: 0  HASTA  HAB.  Unnamed: 1  \\\n",
       "0         1   IAA    NaN           1   4130   NaN         282   \n",
       "1         2   IAA    NaN        4131   4873   NaN         282   \n",
       "\n",
       "         LOCALIDAD DIRECCION  Acc. Unnamed: 2 URB/RURAL  \n",
       "0  COLONIA PINTADO    ESC.14   NaN          s     RURAL  \n",
       "1  COLONIA PINTADO    ESC.14   NaN          s     RURAL  "
      ]
     },
     "execution_count": 65,
     "metadata": {},
     "output_type": "execute_result"
    }
   ],
   "source": [
    "test = df_from_pdf(files[0], areas[0])\n",
    "test.head(2)"
   ]
  },
  {
   "cell_type": "code",
   "execution_count": 67,
   "metadata": {},
   "outputs": [
    {
     "data": {
      "text/html": [
       "<div>\n",
       "<style scoped>\n",
       "    .dataframe tbody tr th:only-of-type {\n",
       "        vertical-align: middle;\n",
       "    }\n",
       "\n",
       "    .dataframe tbody tr th {\n",
       "        vertical-align: top;\n",
       "    }\n",
       "\n",
       "    .dataframe thead th {\n",
       "        text-align: right;\n",
       "    }\n",
       "</style>\n",
       "<table border=\"1\" class=\"dataframe\">\n",
       "  <thead>\n",
       "    <tr style=\"text-align: right;\">\n",
       "      <th></th>\n",
       "      <th>Circuito</th>\n",
       "      <th>Serie</th>\n",
       "      <th>Desde</th>\n",
       "      <th>Hasta</th>\n",
       "      <th>Localidad</th>\n",
       "      <th>Local</th>\n",
       "      <th>Habilitados</th>\n",
       "      <th>Accesible</th>\n",
       "      <th>Urb/Rur</th>\n",
       "    </tr>\n",
       "  </thead>\n",
       "  <tbody>\n",
       "    <tr>\n",
       "      <th>0</th>\n",
       "      <td>1.0</td>\n",
       "      <td>TAA</td>\n",
       "      <td>1</td>\n",
       "      <td>21743</td>\n",
       "      <td>Ciudad</td>\n",
       "      <td>Asociación de Jubilados - Ituzaingó No 388</td>\n",
       "      <td>410</td>\n",
       "      <td>S</td>\n",
       "      <td>Urbano</td>\n",
       "    </tr>\n",
       "    <tr>\n",
       "      <th>1</th>\n",
       "      <td>2.0</td>\n",
       "      <td>TAA</td>\n",
       "      <td>21744</td>\n",
       "      <td>25125</td>\n",
       "      <td>Ciudad</td>\n",
       "      <td>Asociación de Jubilados - Ituzaingó No 388</td>\n",
       "      <td>410</td>\n",
       "      <td>N</td>\n",
       "      <td>Urbano</td>\n",
       "    </tr>\n",
       "  </tbody>\n",
       "</table>\n",
       "</div>"
      ],
      "text/plain": [
       "   Circuito Serie  Desde  Hasta Localidad  \\\n",
       "0       1.0   TAA      1  21743    Ciudad   \n",
       "1       2.0   TAA  21744  25125    Ciudad   \n",
       "\n",
       "                                        Local  Habilitados Accesible Urb/Rur  \n",
       "0  Asociación de Jubilados - Ituzaingó No 388          410         S  Urbano  \n",
       "1  Asociación de Jubilados - Ituzaingó No 388          410         N  Urbano  "
      ]
     },
     "execution_count": 67,
     "metadata": {},
     "output_type": "execute_result"
    }
   ],
   "source": [
    "test2 = df_from_pdf(files[17], areas[17])\n",
    "test2.head(2)"
   ]
  },
  {
   "cell_type": "code",
   "execution_count": 72,
   "metadata": {},
   "outputs": [],
   "source": [
    "dataframes = []\n",
    "for j, k in zip(files, areas):\n",
    "    df = df_from_pdf(j, k)\n",
    "    df['file'] = j\n",
    "    dataframes.append(df)"
   ]
  },
  {
   "cell_type": "code",
   "execution_count": 80,
   "metadata": {},
   "outputs": [
    {
     "data": {
      "text/html": [
       "<div>\n",
       "<style scoped>\n",
       "    .dataframe tbody tr th:only-of-type {\n",
       "        vertical-align: middle;\n",
       "    }\n",
       "\n",
       "    .dataframe tbody tr th {\n",
       "        vertical-align: top;\n",
       "    }\n",
       "\n",
       "    .dataframe thead th {\n",
       "        text-align: right;\n",
       "    }\n",
       "</style>\n",
       "<table border=\"1\" class=\"dataframe\">\n",
       "  <thead>\n",
       "    <tr style=\"text-align: right;\">\n",
       "      <th></th>\n",
       "      <th>Circuito</th>\n",
       "      <th>Serie</th>\n",
       "      <th>Desde</th>\n",
       "      <th>Hasta</th>\n",
       "      <th>Localidad</th>\n",
       "      <th>Local</th>\n",
       "      <th>Habilitados</th>\n",
       "      <th>Accesible</th>\n",
       "      <th>Urb/Rur</th>\n",
       "      <th>file</th>\n",
       "    </tr>\n",
       "  </thead>\n",
       "  <tbody>\n",
       "    <tr>\n",
       "      <th>0</th>\n",
       "      <td>1</td>\n",
       "      <td>OAA</td>\n",
       "      <td>1</td>\n",
       "      <td>4073</td>\n",
       "      <td>SAN JOSÉ DE MAYO</td>\n",
       "      <td>Salón INVE 2, 18 de Julio y Rocha</td>\n",
       "      <td>387</td>\n",
       "      <td>S</td>\n",
       "      <td>URBANO</td>\n",
       "      <td>planes_circuitales\\San_Jose.pdf</td>\n",
       "    </tr>\n",
       "    <tr>\n",
       "      <th>1</th>\n",
       "      <td>2</td>\n",
       "      <td>OAA</td>\n",
       "      <td>4074</td>\n",
       "      <td>5048</td>\n",
       "      <td>SAN JOSÉ DE MAYO</td>\n",
       "      <td>Salón INVE 2, 18 de Julio y Rocha. Barbacoa.</td>\n",
       "      <td>387</td>\n",
       "      <td>N</td>\n",
       "      <td>URBANO</td>\n",
       "      <td>planes_circuitales\\San_Jose.pdf</td>\n",
       "    </tr>\n",
       "  </tbody>\n",
       "</table>\n",
       "</div>"
      ],
      "text/plain": [
       "   Circuito Serie  Desde  Hasta         Localidad  \\\n",
       "0         1   OAA      1   4073  SAN JOSÉ DE MAYO   \n",
       "1         2   OAA   4074   5048  SAN JOSÉ DE MAYO   \n",
       "\n",
       "                                          Local  Habilitados Accesible  \\\n",
       "0             Salón INVE 2, 18 de Julio y Rocha          387         S   \n",
       "1  Salón INVE 2, 18 de Julio y Rocha. Barbacoa.          387         N   \n",
       "\n",
       "  Urb/Rur                             file  \n",
       "0  URBANO  planes_circuitales\\San_Jose.pdf  \n",
       "1  URBANO  planes_circuitales\\San_Jose.pdf  "
      ]
     },
     "execution_count": 80,
     "metadata": {},
     "output_type": "execute_result"
    }
   ],
   "source": [
    "dataframes[15].head(2)\n"
   ]
  },
  {
   "cell_type": "code",
   "execution_count": 83,
   "metadata": {},
   "outputs": [],
   "source": [
    "for i in range(19):\n",
    "    filename = os.path.join('procesados', (deptos[i] + '.csv'))\n",
    "    dataframes[i].to_csv(filename, index=False)"
   ]
  },
  {
   "cell_type": "code",
   "execution_count": null,
   "metadata": {},
   "outputs": [],
   "source": []
  }
 ],
 "metadata": {
  "interpreter": {
   "hash": "b64d072c926d00575959dee9438cdd2b955a3084db39d3bb60d56dabbaaff10b"
  },
  "kernelspec": {
   "display_name": "Python 3.10.4 ('pdf')",
   "language": "python",
   "name": "python3"
  },
  "language_info": {
   "codemirror_mode": {
    "name": "ipython",
    "version": 3
   },
   "file_extension": ".py",
   "mimetype": "text/x-python",
   "name": "python",
   "nbconvert_exporter": "python",
   "pygments_lexer": "ipython3",
   "version": "3.10.4"
  },
  "orig_nbformat": 4
 },
 "nbformat": 4,
 "nbformat_minor": 2
}
